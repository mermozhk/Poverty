{
 "cells": [
  {
   "cell_type": "code",
   "execution_count": 148,
   "id": "5e113a07",
   "metadata": {},
   "outputs": [],
   "source": [
    "import numpy as np\n",
    "import pandas as pd\n",
    "import seaborn as sn\n",
    "import os\n",
    "import sklearn as sk\n",
    "import statsmodels.api as sm\n",
    "\n",
    "code_map = {'BEN':'BENIN','BFA':'BURKINA FASO','CIV':'COTE D\\'IVOIRE','GNB':'GUINEE BISSAU','MLI':'MALI','NER':'NIGER','SEN':'SENEGAL','TGO':'TOGO'}\n",
    "\n",
    "\n",
    "class WAEMU:\n",
    "    def __init__(self):\n",
    "        self.data = pd.read_stata('https://github.com/mermozhk/Poverty/raw/main/WAEMU_data/WAEMU_data.dta')\n",
    "        self.data['zref_intl'] = 2.15*365\n",
    "        self.data['weight'] = self.data['hhweight']*self.data['hhsize']\n",
    "        self.dummies = pd.get_dummies(self.data.CY)\n",
    "        self.data = pd.concat([self.data, self.dummies], axis='columns')\n",
    "        self.data['clusters'] = self.data.apply(lambda x: x['country']+str(x['year'])+str(x['hhid']),axis=1)\n",
    "        self.data['dtot_non_sante_ppa_ind']= self.data['dtot_ppa_ind']-(self.data['dep_sante']/(self.data['PPP']*self.data['hhsize']))\n",
    "        \n",
    "    \n",
    "    def estimation_procedure(self,index,data=None,name=None):\n",
    "        if data is None:\n",
    "            wls_model = sm.WLS(self.data[index],self.dummies, weights=self.data['weight'])\n",
    "            return wls_model.fit(cov_type='cluster',cov_kwds={'groups': self.data['clusters']})\n",
    "        else:\n",
    "            wls_model = sm.WLS(data,self.dummies, weights=self.data['weight'])\n",
    "            return wls_object(wls_model.fit(cov_type='cluster',cov_kwds={'groups': self.data['clusters']}))\n",
    "            \n",
    "    \n",
    "    def prevalence(self,data_index=None,name=None):\n",
    "        if data_index is None:\n",
    "            self.data['prevalence_ind'] =(self.data['dtot_ppa_ind']<self.data['zref_intl']).map({False:0, True:1})\n",
    "            return wls_object(self.estimation_procedure('prevalence_ind'))\n",
    "        else:\n",
    "            column_name = '_'.join(['prevalence',name])\n",
    "            self.data[column_name] = (self.data[data_index]<self.data['zref_intl']).map({False:0, True:1})\n",
    "            return wls_object(self.estimation_procedure(column_name))\n",
    "            \n",
    "       \n",
    "    \n",
    "      \n",
    "    def gap(self,data_index=None,name=None,data_prevalence=None):\n",
    "        if data_index is None:\n",
    "            if not('prevalence_ind' in self.data.columns):\n",
    "            \n",
    "                self.data['prevalence_ind'] =(self.data['dtot_ppa_ind']<self.data['zref_intl']).map({False:0, True:1})\n",
    "            #self.data['gap_ind'] = (1-(self.data['dtot']/self.data['def_spa'])/(self.data['zref_intl']*self.data['hhsize']))*self.data['prevalence_ind']\n",
    "            self.data['gap_ind'] = (1-(self.data['dtot_ppa_ind']/(self.data['zref_intl'])))*self.data['prevalence_ind']\n",
    "            return wls_object(self.estimation_procedure('gap_ind'))\n",
    "        else:\n",
    "            column_name = '_'.join(['gap',name]) #data_index=dtot_non_sante_ppa_ind; data_prevalence=prevalence_after_dep_sante\n",
    "            self.data[column_name] = (1-self.data[data_index]/(self.data['zref_intl']))*data_prevalence\n",
    "            return wls_object(self.estimation_procedure(column_name))\n",
    "            \n",
    "    \n",
    "    def severity(self,data_index=None,name=None,data_prevalence=None):\n",
    "        if data_index is None:\n",
    "            if not('prevalence_ind' in self.data.columns):\n",
    "            \n",
    "                self.data['prevalence_ind'] =(self.data['dtot_ppa_ind']<self.data['zref_intl']).map({False:0, True:1})\n",
    "            \n",
    "            self.data['severity_ind'] = ((1-self.data['dtot_ppa_ind']/(self.data['zref_intl']))**2)*self.data['prevalence_ind']\n",
    "        \n",
    "            return wls_object(self.estimation_procedure('severity_ind'))\n",
    "        else:\n",
    "            column_name = '_'.join(['severity',name]) #data_index=dtot_non_sante_ppa_ind; data_prevalence=prevalence_after_dep_sante\n",
    "            self.data[column_name] = ((1-self.data[data_index]/(self.data['zref_intl']))**2)*data_prevalence\n",
    "            return wls_object(self.estimation_procedure(column_name))\n",
    "            \n",
    "    \n",
    "    def catastrophic_expenditure(self,proportion):\n",
    "        self.data['che'] = ((self.data['dep_sante']/self.data['dtot'])>=proportion).map({False:0, True:1})\n",
    "        return wls_object(self.estimation_procedure(index='che'))\n",
    "        \n",
    "        \n",
    "class wls_object:\n",
    "    def __init__(self,fitting_output):\n",
    "        self.object = fitting_output\n",
    "        \n",
    "    def print_result(self):\n",
    "        return print(self.object.summary())\n",
    "        \n",
    "    def to_table(self,index,columns,by_table=False):\n",
    "        #self.object.fittedvalues.unique()\n",
    "        data=pd.DataFrame({'Country':columns,'Index':self.object.fittedvalues.unique()})\n",
    "        data.columns = ['Country',index]\n",
    "        data['year'] = data['Country'].apply(lambda x:x[-4:])\n",
    "        data['Code']=data['Country'].apply(lambda x:x[:3])\n",
    "        data['Country Name']=data['Code'].map(code_map)\n",
    "        df=data.drop(columns=['Country','Code'])\n",
    "        if not by_table:\n",
    "            return df\n",
    "        else:\n",
    "            return df.pivot(index='year',columns='Country Name')\n",
    "        "
   ]
  },
  {
   "cell_type": "code",
   "execution_count": 149,
   "id": "70ff0ce4",
   "metadata": {},
   "outputs": [],
   "source": [
    "wa = WAEMU() # Crée un objet WAEMU comportant la base de données"
   ]
  },
  {
   "cell_type": "code",
   "execution_count": 150,
   "id": "5a752f5e",
   "metadata": {},
   "outputs": [],
   "source": [
    "# Exemple de calcul de prévalence\n",
    "resultat_non_sante = wa.prevalence(data_index='dtot_non_sante_ppa_ind',name='after_dep_sante')"
   ]
  },
  {
   "cell_type": "code",
   "execution_count": 151,
   "id": "116b06e4",
   "metadata": {},
   "outputs": [
    {
     "name": "stdout",
     "output_type": "stream",
     "text": [
      "                                WLS Regression Results                                \n",
      "======================================================================================\n",
      "Dep. Variable:     prevalence_after_dep_sante   R-squared:                       0.129\n",
      "Model:                                    WLS   Adj. R-squared:                  0.129\n",
      "Method:                         Least Squares   F-statistic:                       nan\n",
      "Date:                        Thu, 18 Jul 2024   Prob (F-statistic):                nan\n",
      "Time:                                17:12:40   Log-Likelihood:                -92661.\n",
      "No. Observations:                      119189   AIC:                         1.854e+05\n",
      "Df Residuals:                          119173   BIC:                         1.855e+05\n",
      "Df Model:                                  15                                         \n",
      "Covariance Type:                      cluster                                         \n",
      "==============================================================================\n",
      "                 coef    std err          z      P>|z|      [0.025      0.975]\n",
      "------------------------------------------------------------------------------\n",
      "BEN2018        0.2211      0.006     35.244      0.000       0.209       0.233\n",
      "BEN2021        0.1098      0.005     22.121      0.000       0.100       0.119\n",
      "BFA2018        0.3577      0.009     38.206      0.000       0.339       0.376\n",
      "BFA2021        0.2099      0.008     25.977      0.000       0.194       0.226\n",
      "CIV2018        0.1413      0.004     33.016      0.000       0.133       0.150\n",
      "CIV2021        0.0784      0.003     24.139      0.000       0.072       0.085\n",
      "GNB2018        0.2238      0.009     26.308      0.000       0.207       0.241\n",
      "GNB2021        0.1925      0.008     24.800      0.000       0.177       0.208\n",
      "MLI2018        0.1910      0.008     25.305      0.000       0.176       0.206\n",
      "MLI2021        0.1816      0.010     18.861      0.000       0.163       0.200\n",
      "NER2018        0.5630      0.009     63.756      0.000       0.546       0.580\n",
      "NER2021        0.4600      0.009     49.116      0.000       0.442       0.478\n",
      "SEN2018        0.1007      0.005     19.684      0.000       0.091       0.111\n",
      "SEN2021        0.0655      0.004     16.384      0.000       0.058       0.073\n",
      "TGO2018        0.2760      0.007     37.698      0.000       0.262       0.290\n",
      "TGO2021        0.1912      0.007     27.216      0.000       0.177       0.205\n",
      "==============================================================================\n",
      "Omnibus:                    48771.173   Durbin-Watson:                   1.546\n",
      "Prob(Omnibus):                  0.000   Jarque-Bera (JB):           272896.480\n",
      "Skew:                           1.905   Prob(JB):                         0.00\n",
      "Kurtosis:                       9.359   Cond. No.                         4.21\n",
      "==============================================================================\n",
      "\n",
      "Notes:\n",
      "[1] Standard Errors are robust to cluster correlation (cluster)\n"
     ]
    }
   ],
   "source": [
    "#Affichage simple des résultats\n",
    "resultat_non_sante.print_result()"
   ]
  },
  {
   "cell_type": "code",
   "execution_count": 127,
   "id": "755a5b03",
   "metadata": {},
   "outputs": [],
   "source": [
    "# Exemple de calcul de prévalence\n",
    "resultat_non_gap = wa.gap(data_index='dtot_non_sante_ppa_ind',name='after_dep_sante',data_prevalence=wa.data['prevalence_after_dep_sante'])"
   ]
  },
  {
   "cell_type": "code",
   "execution_count": 128,
   "id": "67b76643",
   "metadata": {},
   "outputs": [
    {
     "name": "stdout",
     "output_type": "stream",
     "text": [
      "                             WLS Regression Results                            \n",
      "===============================================================================\n",
      "Dep. Variable:     gap_after_dep_sante   R-squared:                       0.124\n",
      "Model:                             WLS   Adj. R-squared:                  0.124\n",
      "Method:                  Least Squares   F-statistic:                       nan\n",
      "Date:                 Thu, 18 Jul 2024   Prob (F-statistic):                nan\n",
      "Time:                         16:44:32   Log-Likelihood:                 37891.\n",
      "No. Observations:               119189   AIC:                        -7.575e+04\n",
      "Df Residuals:                   119173   BIC:                        -7.559e+04\n",
      "Df Model:                           15                                         \n",
      "Covariance Type:               cluster                                         \n",
      "==============================================================================\n",
      "                 coef    std err          z      P>|z|      [0.025      0.975]\n",
      "------------------------------------------------------------------------------\n",
      "BEN2018        0.0534      0.002     27.206      0.000       0.050       0.057\n",
      "BEN2021        0.0262      0.002     16.361      0.000       0.023       0.029\n",
      "BFA2018        0.0990      0.003     28.309      0.000       0.092       0.106\n",
      "BFA2021        0.0492      0.002     21.223      0.000       0.045       0.054\n",
      "CIV2018        0.0304      0.001     26.340      0.000       0.028       0.033\n",
      "CIV2021        0.0149      0.001     19.510      0.000       0.013       0.016\n",
      "GNB2018        0.0498      0.003     17.190      0.000       0.044       0.055\n",
      "GNB2021        0.0389      0.002     19.144      0.000       0.035       0.043\n",
      "MLI2018        0.0411      0.002     18.808      0.000       0.037       0.045\n",
      "MLI2021        0.0381      0.003     12.356      0.000       0.032       0.044\n",
      "NER2018        0.1830      0.004     44.165      0.000       0.175       0.191\n",
      "NER2021        0.1211      0.004     34.361      0.000       0.114       0.128\n",
      "SEN2018        0.0197      0.001     15.641      0.000       0.017       0.022\n",
      "SEN2021        0.0140      0.002      7.868      0.000       0.011       0.017\n",
      "TGO2018        0.0827      0.003     30.526      0.000       0.077       0.088\n",
      "TGO2021        0.0472      0.002     21.294      0.000       0.043       0.052\n",
      "==============================================================================\n",
      "Omnibus:                   151804.424   Durbin-Watson:                   1.553\n",
      "Prob(Omnibus):                  0.000   Jarque-Bera (JB):        175394441.157\n",
      "Skew:                           6.333   Prob(JB):                         0.00\n",
      "Kurtosis:                     190.502   Cond. No.                         4.21\n",
      "==============================================================================\n",
      "\n",
      "Notes:\n",
      "[1] Standard Errors are robust to cluster correlation (cluster)\n"
     ]
    }
   ],
   "source": [
    "resultat_non_gap.print_result()"
   ]
  },
  {
   "cell_type": "code",
   "execution_count": 152,
   "id": "c5fe381f",
   "metadata": {},
   "outputs": [],
   "source": [
    "result_gap = wa.gap()"
   ]
  },
  {
   "cell_type": "code",
   "execution_count": 153,
   "id": "85d29ef0",
   "metadata": {},
   "outputs": [
    {
     "name": "stdout",
     "output_type": "stream",
     "text": [
      "                            WLS Regression Results                            \n",
      "==============================================================================\n",
      "Dep. Variable:                gap_ind   R-squared:                       0.132\n",
      "Model:                            WLS   Adj. R-squared:                  0.132\n",
      "Method:                 Least Squares   F-statistic:                       nan\n",
      "Date:                Thu, 18 Jul 2024   Prob (F-statistic):                nan\n",
      "Time:                        17:12:58   Log-Likelihood:                 48505.\n",
      "No. Observations:              119189   AIC:                        -9.698e+04\n",
      "Df Residuals:                  119173   BIC:                        -9.682e+04\n",
      "Df Model:                          15                                         \n",
      "Covariance Type:              cluster                                         \n",
      "==============================================================================\n",
      "                 coef    std err          z      P>|z|      [0.025      0.975]\n",
      "------------------------------------------------------------------------------\n",
      "BEN2018        0.0436      0.002     24.492      0.000       0.040       0.047\n",
      "BEN2021        0.0181      0.001     13.997      0.000       0.016       0.021\n",
      "BFA2018        0.0905      0.003     26.453      0.000       0.084       0.097\n",
      "BFA2021        0.0418      0.002     19.917      0.000       0.038       0.046\n",
      "CIV2018        0.0258      0.001     24.461      0.000       0.024       0.028\n",
      "CIV2021        0.0121      0.001     18.070      0.000       0.011       0.013\n",
      "GNB2018        0.0439      0.003     16.053      0.000       0.039       0.049\n",
      "GNB2021        0.0327      0.002     17.636      0.000       0.029       0.036\n",
      "MLI2018        0.0348      0.002     17.437      0.000       0.031       0.039\n",
      "MLI2021        0.0308      0.003     11.847      0.000       0.026       0.036\n",
      "NER2018        0.1693      0.004     41.775      0.000       0.161       0.177\n",
      "NER2021        0.1130      0.003     32.969      0.000       0.106       0.120\n",
      "SEN2018        0.0168      0.001     14.604      0.000       0.015       0.019\n",
      "SEN2021        0.0103      0.001     11.548      0.000       0.009       0.012\n",
      "TGO2018        0.0734      0.003     29.200      0.000       0.069       0.078\n",
      "TGO2021        0.0396      0.002     20.078      0.000       0.036       0.043\n",
      "==============================================================================\n",
      "Omnibus:                   107461.967   Durbin-Watson:                   1.540\n",
      "Prob(Omnibus):                  0.000   Jarque-Bera (JB):          5268999.149\n",
      "Skew:                           4.248   Prob(JB):                         0.00\n",
      "Kurtosis:                      34.445   Cond. No.                         4.21\n",
      "==============================================================================\n",
      "\n",
      "Notes:\n",
      "[1] Standard Errors are robust to cluster correlation (cluster)\n"
     ]
    }
   ],
   "source": [
    "result_gap.print_result()"
   ]
  },
  {
   "cell_type": "code",
   "execution_count": 154,
   "id": "d5ad9d54",
   "metadata": {},
   "outputs": [],
   "source": [
    "resultat_severity = wa.severity()"
   ]
  },
  {
   "cell_type": "code",
   "execution_count": 155,
   "id": "659869b6",
   "metadata": {},
   "outputs": [
    {
     "name": "stdout",
     "output_type": "stream",
     "text": [
      "                            WLS Regression Results                            \n",
      "==============================================================================\n",
      "Dep. Variable:           severity_ind   R-squared:                       0.101\n",
      "Model:                            WLS   Adj. R-squared:                  0.101\n",
      "Method:                 Least Squares   F-statistic:                       nan\n",
      "Date:                Thu, 18 Jul 2024   Prob (F-statistic):                nan\n",
      "Time:                        17:13:57   Log-Likelihood:             1.3357e+05\n",
      "No. Observations:              119189   AIC:                        -2.671e+05\n",
      "Df Residuals:                  119173   BIC:                        -2.670e+05\n",
      "Df Model:                          15                                         \n",
      "Covariance Type:              cluster                                         \n",
      "==============================================================================\n",
      "                 coef    std err          z      P>|z|      [0.025      0.975]\n",
      "------------------------------------------------------------------------------\n",
      "BEN2018        0.0151      0.001     18.653      0.000       0.014       0.017\n",
      "BEN2021        0.0062      0.001     10.454      0.000       0.005       0.007\n",
      "BFA2018        0.0349      0.002     19.547      0.000       0.031       0.038\n",
      "BFA2021        0.0140      0.001     15.759      0.000       0.012       0.016\n",
      "CIV2018        0.0085      0.000     18.061      0.000       0.008       0.009\n",
      "CIV2021        0.0035      0.000     13.581      0.000       0.003       0.004\n",
      "GNB2018        0.0140      0.001     10.898      0.000       0.012       0.017\n",
      "GNB2021        0.0095      0.001     13.215      0.000       0.008       0.011\n",
      "MLI2018        0.0111      0.001     12.835      0.000       0.009       0.013\n",
      "MLI2021        0.0090      0.001      8.423      0.000       0.007       0.011\n",
      "NER2018        0.0716      0.002     30.119      0.000       0.067       0.076\n",
      "NER2021        0.0405      0.002     24.238      0.000       0.037       0.044\n",
      "SEN2018        0.0052      0.001     10.077      0.000       0.004       0.006\n",
      "SEN2021        0.0030      0.000      9.302      0.000       0.002       0.004\n",
      "TGO2018        0.0301      0.001     23.338      0.000       0.028       0.033\n",
      "TGO2021        0.0138      0.001     14.473      0.000       0.012       0.016\n",
      "==============================================================================\n",
      "Omnibus:                   158808.973   Durbin-Watson:                   1.597\n",
      "Prob(Omnibus):                  0.000   Jarque-Bera (JB):         45702244.641\n",
      "Skew:                           7.545   Prob(JB):                         0.00\n",
      "Kurtosis:                      97.736   Cond. No.                         4.21\n",
      "==============================================================================\n",
      "\n",
      "Notes:\n",
      "[1] Standard Errors are robust to cluster correlation (cluster)\n"
     ]
    }
   ],
   "source": [
    "resultat_severity.print_result()"
   ]
  },
  {
   "cell_type": "code",
   "execution_count": 105,
   "id": "99c1685c",
   "metadata": {},
   "outputs": [],
   "source": [
    "resultat_prevalence = wa.prevalence()"
   ]
  },
  {
   "cell_type": "code",
   "execution_count": null,
   "id": "04d51465",
   "metadata": {},
   "outputs": [],
   "source": []
  },
  {
   "cell_type": "code",
   "execution_count": 106,
   "id": "f03e8d82",
   "metadata": {},
   "outputs": [
    {
     "name": "stdout",
     "output_type": "stream",
     "text": [
      "                            WLS Regression Results                            \n",
      "==============================================================================\n",
      "Dep. Variable:         prevalence_ind   R-squared:                       0.131\n",
      "Model:                            WLS   Adj. R-squared:                  0.131\n",
      "Method:                 Least Squares   F-statistic:                       nan\n",
      "Date:                Thu, 18 Jul 2024   Prob (F-statistic):                nan\n",
      "Time:                        16:23:57   Log-Likelihood:                -88250.\n",
      "No. Observations:              119189   AIC:                         1.765e+05\n",
      "Df Residuals:                  119173   BIC:                         1.767e+05\n",
      "Df Model:                          15                                         \n",
      "Covariance Type:              cluster                                         \n",
      "==============================================================================\n",
      "                 coef    std err          z      P>|z|      [0.025      0.975]\n",
      "------------------------------------------------------------------------------\n",
      "BEN2018        0.1874      0.006     31.372      0.000       0.176       0.199\n",
      "BEN2021        0.0858      0.004     19.180      0.000       0.077       0.095\n",
      "BFA2018        0.3302      0.009     35.948      0.000       0.312       0.348\n",
      "BFA2021        0.1847      0.008     24.502      0.000       0.170       0.200\n",
      "CIV2018        0.1224      0.004     30.255      0.000       0.114       0.130\n",
      "CIV2021        0.0664      0.003     21.798      0.000       0.060       0.072\n",
      "GNB2018        0.2060      0.008     24.609      0.000       0.190       0.222\n",
      "GNB2021        0.1683      0.007     22.692      0.000       0.154       0.183\n",
      "MLI2018        0.1675      0.007     23.347      0.000       0.153       0.182\n",
      "MLI2021        0.1567      0.009     16.818      0.000       0.138       0.175\n",
      "NER2018        0.5358      0.009     59.922      0.000       0.518       0.553\n",
      "NER2021        0.4353      0.009     46.314      0.000       0.417       0.454\n",
      "SEN2018        0.0881      0.005     18.267      0.000       0.079       0.098\n",
      "SEN2021        0.0550      0.004     14.631      0.000       0.048       0.062\n",
      "TGO2018        0.2532      0.007     35.623      0.000       0.239       0.267\n",
      "TGO2021        0.1674      0.007     24.958      0.000       0.154       0.181\n",
      "==============================================================================\n",
      "Omnibus:                    54759.421   Durbin-Watson:                   1.564\n",
      "Prob(Omnibus):                  0.000   Jarque-Bera (JB):           379076.853\n",
      "Skew:                           2.102   Prob(JB):                         0.00\n",
      "Kurtosis:                      10.659   Cond. No.                         4.21\n",
      "==============================================================================\n",
      "\n",
      "Notes:\n",
      "[1] Standard Errors are robust to cluster correlation (cluster)\n"
     ]
    }
   ],
   "source": [
    "resultat_prevalence.print_result()"
   ]
  },
  {
   "cell_type": "code",
   "execution_count": 139,
   "id": "d9f5d33b",
   "metadata": {},
   "outputs": [
    {
     "data": {
      "text/plain": [
       "Index(['country', 'year', 'hhid', 'grappe', 'menage', 'vague', 'zae', 'region',\n",
       "       'milieu', 'hhweight', 'hhsize', 'eqadu1', 'eqadu2', 'hgender', 'hage',\n",
       "       'hmstat', 'hreligion', 'hnation', 'halfab', 'heduc', 'hdiploma',\n",
       "       'hhandig', 'hactiv7j', 'hactiv12m', 'hbranch', 'hsectins', 'hcsp',\n",
       "       'dali', 'dnal', 'dtot', 'pcexp', 'zref', 'def_spa', 'def_temp', 'halfa',\n",
       "       'halfa2', 'milieu2', 'dtet', 'decile', 'zzae', 'dep_sante', 'PPP', 'CY',\n",
       "       'Code_CY', 'dtot_ppa_ind', 'poids', 'Quintile', 'zref_intl', 'weight',\n",
       "       'BEN2018', 'BEN2021', 'BFA2018', 'BFA2021', 'CIV2018', 'CIV2021',\n",
       "       'GNB2018', 'GNB2021', 'MLI2018', 'MLI2021', 'NER2018', 'NER2021',\n",
       "       'SEN2018', 'SEN2021', 'TGO2018', 'TGO2021', 'clusters',\n",
       "       'dtot_non_sante_ppa_ind', 'prevalence_ind', 'gap_ind'],\n",
       "      dtype='object')"
      ]
     },
     "execution_count": 139,
     "metadata": {},
     "output_type": "execute_result"
    }
   ],
   "source": [
    "wa.data.columns"
   ]
  },
  {
   "cell_type": "code",
   "execution_count": 140,
   "id": "1961924c",
   "metadata": {},
   "outputs": [
    {
     "data": {
      "text/plain": [
       "0         0.971703\n",
       "1         0.971703\n",
       "2         0.971703\n",
       "3         0.971703\n",
       "4         0.971703\n",
       "            ...   \n",
       "119184         NaN\n",
       "119185         NaN\n",
       "119186         NaN\n",
       "119187         NaN\n",
       "119188         NaN\n",
       "Name: def_spa, Length: 119189, dtype: float32"
      ]
     },
     "execution_count": 140,
     "metadata": {},
     "output_type": "execute_result"
    }
   ],
   "source": [
    "wa.data['def_spa']"
   ]
  },
  {
   "cell_type": "code",
   "execution_count": 108,
   "id": "fbe34d31",
   "metadata": {},
   "outputs": [
    {
     "name": "stdout",
     "output_type": "stream",
     "text": [
      "                            WLS Regression Results                            \n",
      "==============================================================================\n",
      "Dep. Variable:                      y   R-squared:                       0.002\n",
      "Model:                            WLS   Adj. R-squared:                  0.002\n",
      "Method:                 Least Squares   F-statistic:                       nan\n",
      "Date:                Thu, 18 Jul 2024   Prob (F-statistic):                nan\n",
      "Time:                        16:24:07   Log-Likelihood:                 25697.\n",
      "No. Observations:              119189   AIC:                        -5.136e+04\n",
      "Df Residuals:                  119173   BIC:                        -5.121e+04\n",
      "Df Model:                          15                                         \n",
      "Covariance Type:              cluster                                         \n",
      "==============================================================================\n",
      "                 coef    std err          z      P>|z|      [0.025      0.975]\n",
      "------------------------------------------------------------------------------\n",
      "BEN2018        0.0337      0.003     12.670      0.000       0.028       0.039\n",
      "BEN2021        0.0240      0.002      9.829      0.000       0.019       0.029\n",
      "BFA2018        0.0275      0.004      7.327      0.000       0.020       0.035\n",
      "BFA2021        0.0251      0.004      6.691      0.000       0.018       0.033\n",
      "CIV2018        0.0189      0.002     12.104      0.000       0.016       0.022\n",
      "CIV2021        0.0120      0.001     10.209      0.000       0.010       0.014\n",
      "GNB2018        0.0179      0.002      7.564      0.000       0.013       0.022\n",
      "GNB2021        0.0242      0.003      7.966      0.000       0.018       0.030\n",
      "MLI2018        0.0235      0.003      7.865      0.000       0.018       0.029\n",
      "MLI2021        0.0249      0.003      7.156      0.000       0.018       0.032\n",
      "NER2018        0.0272      0.003      9.341      0.000       0.022       0.033\n",
      "NER2021        0.0247      0.003      7.794      0.000       0.019       0.031\n",
      "SEN2018        0.0126      0.002      6.667      0.000       0.009       0.016\n",
      "SEN2021        0.0104      0.001      7.344      0.000       0.008       0.013\n",
      "TGO2018        0.0228      0.002      9.327      0.000       0.018       0.028\n",
      "TGO2021        0.0238      0.003      8.935      0.000       0.019       0.029\n",
      "==============================================================================\n",
      "Omnibus:                   189176.474   Durbin-Watson:                   1.976\n",
      "Prob(Omnibus):                  0.000   Jarque-Bera (JB):         96516486.777\n",
      "Skew:                          10.505   Prob(JB):                         0.00\n",
      "Kurtosis:                     140.816   Cond. No.                         4.21\n",
      "==============================================================================\n",
      "\n",
      "Notes:\n",
      "[1] Standard Errors are robust to cluster correlation (cluster)\n"
     ]
    }
   ],
   "source": [
    "impact.print_result()"
   ]
  },
  {
   "cell_type": "code",
   "execution_count": 83,
   "id": "707b8d67",
   "metadata": {},
   "outputs": [
    {
     "data": {
      "text/plain": [
       "count    119189.000000\n",
       "mean          0.137563\n",
       "std           0.344442\n",
       "min           0.000000\n",
       "25%           0.000000\n",
       "50%           0.000000\n",
       "75%           0.000000\n",
       "max           1.000000\n",
       "Name: prevalence_ind, dtype: float64"
      ]
     },
     "execution_count": 83,
     "metadata": {},
     "output_type": "execute_result"
    }
   ],
   "source": [
    "wa.data['prevalence_ind'].describe()"
   ]
  },
  {
   "cell_type": "code",
   "execution_count": 84,
   "id": "8bf55824",
   "metadata": {},
   "outputs": [
    {
     "data": {
      "text/plain": [
       "count    119189.000000\n",
       "mean          0.154419\n",
       "std           0.361351\n",
       "min           0.000000\n",
       "25%           0.000000\n",
       "50%           0.000000\n",
       "75%           0.000000\n",
       "max           1.000000\n",
       "Name: prevalence_after_dep_sante, dtype: float64"
      ]
     },
     "execution_count": 84,
     "metadata": {},
     "output_type": "execute_result"
    }
   ],
   "source": [
    "wa.data['prevalence_after_dep_sante'].describe()"
   ]
  },
  {
   "cell_type": "code",
   "execution_count": 93,
   "id": "fb2daa89",
   "metadata": {},
   "outputs": [
    {
     "data": {
      "text/plain": [
       "1.0"
      ]
     },
     "execution_count": 93,
     "metadata": {},
     "output_type": "execute_result"
    }
   ],
   "source": [
    "np.mean((wa.data['prevalence_after_dep_sante']-wa.data['prevalence_ind'])<wa.data['zref_intl'])"
   ]
  },
  {
   "cell_type": "code",
   "execution_count": 129,
   "id": "82a8674e",
   "metadata": {},
   "outputs": [
    {
     "data": {
      "text/html": [
       "<div>\n",
       "<style scoped>\n",
       "    .dataframe tbody tr th:only-of-type {\n",
       "        vertical-align: middle;\n",
       "    }\n",
       "\n",
       "    .dataframe tbody tr th {\n",
       "        vertical-align: top;\n",
       "    }\n",
       "\n",
       "    .dataframe thead th {\n",
       "        text-align: right;\n",
       "    }\n",
       "</style>\n",
       "<table border=\"1\" class=\"dataframe\">\n",
       "  <thead>\n",
       "    <tr style=\"text-align: right;\">\n",
       "      <th></th>\n",
       "      <th>Prevalence</th>\n",
       "      <th>year</th>\n",
       "      <th>Country Name</th>\n",
       "    </tr>\n",
       "  </thead>\n",
       "  <tbody>\n",
       "    <tr>\n",
       "      <th>0</th>\n",
       "      <td>0.187436</td>\n",
       "      <td>2018</td>\n",
       "      <td>BENIN</td>\n",
       "    </tr>\n",
       "    <tr>\n",
       "      <th>1</th>\n",
       "      <td>0.085756</td>\n",
       "      <td>2021</td>\n",
       "      <td>BENIN</td>\n",
       "    </tr>\n",
       "    <tr>\n",
       "      <th>2</th>\n",
       "      <td>0.330190</td>\n",
       "      <td>2018</td>\n",
       "      <td>BURKINA FASO</td>\n",
       "    </tr>\n",
       "    <tr>\n",
       "      <th>3</th>\n",
       "      <td>0.184733</td>\n",
       "      <td>2021</td>\n",
       "      <td>BURKINA FASO</td>\n",
       "    </tr>\n",
       "    <tr>\n",
       "      <th>4</th>\n",
       "      <td>0.122367</td>\n",
       "      <td>2018</td>\n",
       "      <td>COTE D'IVOIRE</td>\n",
       "    </tr>\n",
       "    <tr>\n",
       "      <th>5</th>\n",
       "      <td>0.066431</td>\n",
       "      <td>2021</td>\n",
       "      <td>COTE D'IVOIRE</td>\n",
       "    </tr>\n",
       "    <tr>\n",
       "      <th>6</th>\n",
       "      <td>0.205967</td>\n",
       "      <td>2018</td>\n",
       "      <td>GUINEE BISSAU</td>\n",
       "    </tr>\n",
       "    <tr>\n",
       "      <th>7</th>\n",
       "      <td>0.168300</td>\n",
       "      <td>2021</td>\n",
       "      <td>GUINEE BISSAU</td>\n",
       "    </tr>\n",
       "    <tr>\n",
       "      <th>8</th>\n",
       "      <td>0.167538</td>\n",
       "      <td>2018</td>\n",
       "      <td>MALI</td>\n",
       "    </tr>\n",
       "    <tr>\n",
       "      <th>9</th>\n",
       "      <td>0.156681</td>\n",
       "      <td>2021</td>\n",
       "      <td>MALI</td>\n",
       "    </tr>\n",
       "    <tr>\n",
       "      <th>10</th>\n",
       "      <td>0.535805</td>\n",
       "      <td>2018</td>\n",
       "      <td>NIGER</td>\n",
       "    </tr>\n",
       "    <tr>\n",
       "      <th>11</th>\n",
       "      <td>0.435311</td>\n",
       "      <td>2021</td>\n",
       "      <td>NIGER</td>\n",
       "    </tr>\n",
       "    <tr>\n",
       "      <th>12</th>\n",
       "      <td>0.088088</td>\n",
       "      <td>2018</td>\n",
       "      <td>SENEGAL</td>\n",
       "    </tr>\n",
       "    <tr>\n",
       "      <th>13</th>\n",
       "      <td>0.055026</td>\n",
       "      <td>2021</td>\n",
       "      <td>SENEGAL</td>\n",
       "    </tr>\n",
       "    <tr>\n",
       "      <th>14</th>\n",
       "      <td>0.253211</td>\n",
       "      <td>2018</td>\n",
       "      <td>TOGO</td>\n",
       "    </tr>\n",
       "    <tr>\n",
       "      <th>15</th>\n",
       "      <td>0.167377</td>\n",
       "      <td>2021</td>\n",
       "      <td>TOGO</td>\n",
       "    </tr>\n",
       "  </tbody>\n",
       "</table>\n",
       "</div>"
      ],
      "text/plain": [
       "    Prevalence  year   Country Name\n",
       "0     0.187436  2018          BENIN\n",
       "1     0.085756  2021          BENIN\n",
       "2     0.330190  2018   BURKINA FASO\n",
       "3     0.184733  2021   BURKINA FASO\n",
       "4     0.122367  2018  COTE D'IVOIRE\n",
       "5     0.066431  2021  COTE D'IVOIRE\n",
       "6     0.205967  2018  GUINEE BISSAU\n",
       "7     0.168300  2021  GUINEE BISSAU\n",
       "8     0.167538  2018           MALI\n",
       "9     0.156681  2021           MALI\n",
       "10    0.535805  2018          NIGER\n",
       "11    0.435311  2021          NIGER\n",
       "12    0.088088  2018        SENEGAL\n",
       "13    0.055026  2021        SENEGAL\n",
       "14    0.253211  2018           TOGO\n",
       "15    0.167377  2021           TOGO"
      ]
     },
     "execution_count": 129,
     "metadata": {},
     "output_type": "execute_result"
    }
   ],
   "source": [
    "#\n",
    "resultat_prevalence.to_table('Prevalence',wa.dummies.columns)\n",
    "#wa.dummies.columns\n",
    "#res.object.fittedvalues.unique()"
   ]
  },
  {
   "cell_type": "code",
   "execution_count": 130,
   "id": "84661847",
   "metadata": {},
   "outputs": [
    {
     "data": {
      "text/html": [
       "<div>\n",
       "<style scoped>\n",
       "    .dataframe tbody tr th:only-of-type {\n",
       "        vertical-align: middle;\n",
       "    }\n",
       "\n",
       "    .dataframe tbody tr th {\n",
       "        vertical-align: top;\n",
       "    }\n",
       "\n",
       "    .dataframe thead th {\n",
       "        text-align: right;\n",
       "    }\n",
       "</style>\n",
       "<table border=\"1\" class=\"dataframe\">\n",
       "  <thead>\n",
       "    <tr style=\"text-align: right;\">\n",
       "      <th></th>\n",
       "      <th>Severity</th>\n",
       "      <th>year</th>\n",
       "      <th>Country Name</th>\n",
       "    </tr>\n",
       "  </thead>\n",
       "  <tbody>\n",
       "    <tr>\n",
       "      <th>0</th>\n",
       "      <td>0.015143</td>\n",
       "      <td>2018</td>\n",
       "      <td>BENIN</td>\n",
       "    </tr>\n",
       "    <tr>\n",
       "      <th>1</th>\n",
       "      <td>0.006195</td>\n",
       "      <td>2021</td>\n",
       "      <td>BENIN</td>\n",
       "    </tr>\n",
       "    <tr>\n",
       "      <th>2</th>\n",
       "      <td>0.034855</td>\n",
       "      <td>2018</td>\n",
       "      <td>BURKINA FASO</td>\n",
       "    </tr>\n",
       "    <tr>\n",
       "      <th>3</th>\n",
       "      <td>0.013980</td>\n",
       "      <td>2021</td>\n",
       "      <td>BURKINA FASO</td>\n",
       "    </tr>\n",
       "    <tr>\n",
       "      <th>4</th>\n",
       "      <td>0.008477</td>\n",
       "      <td>2018</td>\n",
       "      <td>COTE D'IVOIRE</td>\n",
       "    </tr>\n",
       "    <tr>\n",
       "      <th>5</th>\n",
       "      <td>0.003507</td>\n",
       "      <td>2021</td>\n",
       "      <td>COTE D'IVOIRE</td>\n",
       "    </tr>\n",
       "    <tr>\n",
       "      <th>6</th>\n",
       "      <td>0.014033</td>\n",
       "      <td>2018</td>\n",
       "      <td>GUINEE BISSAU</td>\n",
       "    </tr>\n",
       "    <tr>\n",
       "      <th>7</th>\n",
       "      <td>0.009518</td>\n",
       "      <td>2021</td>\n",
       "      <td>GUINEE BISSAU</td>\n",
       "    </tr>\n",
       "    <tr>\n",
       "      <th>8</th>\n",
       "      <td>0.011078</td>\n",
       "      <td>2018</td>\n",
       "      <td>MALI</td>\n",
       "    </tr>\n",
       "    <tr>\n",
       "      <th>9</th>\n",
       "      <td>0.009002</td>\n",
       "      <td>2021</td>\n",
       "      <td>MALI</td>\n",
       "    </tr>\n",
       "    <tr>\n",
       "      <th>10</th>\n",
       "      <td>0.071633</td>\n",
       "      <td>2018</td>\n",
       "      <td>NIGER</td>\n",
       "    </tr>\n",
       "    <tr>\n",
       "      <th>11</th>\n",
       "      <td>0.040472</td>\n",
       "      <td>2021</td>\n",
       "      <td>NIGER</td>\n",
       "    </tr>\n",
       "    <tr>\n",
       "      <th>12</th>\n",
       "      <td>0.005233</td>\n",
       "      <td>2018</td>\n",
       "      <td>SENEGAL</td>\n",
       "    </tr>\n",
       "    <tr>\n",
       "      <th>13</th>\n",
       "      <td>0.003040</td>\n",
       "      <td>2021</td>\n",
       "      <td>SENEGAL</td>\n",
       "    </tr>\n",
       "    <tr>\n",
       "      <th>14</th>\n",
       "      <td>0.030134</td>\n",
       "      <td>2018</td>\n",
       "      <td>TOGO</td>\n",
       "    </tr>\n",
       "    <tr>\n",
       "      <th>15</th>\n",
       "      <td>0.013846</td>\n",
       "      <td>2021</td>\n",
       "      <td>TOGO</td>\n",
       "    </tr>\n",
       "  </tbody>\n",
       "</table>\n",
       "</div>"
      ],
      "text/plain": [
       "    Severity  year   Country Name\n",
       "0   0.015143  2018          BENIN\n",
       "1   0.006195  2021          BENIN\n",
       "2   0.034855  2018   BURKINA FASO\n",
       "3   0.013980  2021   BURKINA FASO\n",
       "4   0.008477  2018  COTE D'IVOIRE\n",
       "5   0.003507  2021  COTE D'IVOIRE\n",
       "6   0.014033  2018  GUINEE BISSAU\n",
       "7   0.009518  2021  GUINEE BISSAU\n",
       "8   0.011078  2018           MALI\n",
       "9   0.009002  2021           MALI\n",
       "10  0.071633  2018          NIGER\n",
       "11  0.040472  2021          NIGER\n",
       "12  0.005233  2018        SENEGAL\n",
       "13  0.003040  2021        SENEGAL\n",
       "14  0.030134  2018           TOGO\n",
       "15  0.013846  2021           TOGO"
      ]
     },
     "execution_count": 130,
     "metadata": {},
     "output_type": "execute_result"
    }
   ],
   "source": [
    "resultat_severite = wa.severity()\n",
    "resultat_severite.to_table('Severity',wa.dummies.columns)"
   ]
  },
  {
   "cell_type": "code",
   "execution_count": 131,
   "id": "de6c2f7c",
   "metadata": {},
   "outputs": [
    {
     "data": {
      "text/html": [
       "<div>\n",
       "<style scoped>\n",
       "    .dataframe tbody tr th:only-of-type {\n",
       "        vertical-align: middle;\n",
       "    }\n",
       "\n",
       "    .dataframe tbody tr th {\n",
       "        vertical-align: top;\n",
       "    }\n",
       "\n",
       "    .dataframe thead th {\n",
       "        text-align: right;\n",
       "    }\n",
       "</style>\n",
       "<table border=\"1\" class=\"dataframe\">\n",
       "  <thead>\n",
       "    <tr style=\"text-align: right;\">\n",
       "      <th></th>\n",
       "      <th>Gap</th>\n",
       "      <th>year</th>\n",
       "      <th>Country Name</th>\n",
       "    </tr>\n",
       "  </thead>\n",
       "  <tbody>\n",
       "    <tr>\n",
       "      <th>0</th>\n",
       "      <td>0.043599</td>\n",
       "      <td>2018</td>\n",
       "      <td>BENIN</td>\n",
       "    </tr>\n",
       "    <tr>\n",
       "      <th>1</th>\n",
       "      <td>0.018132</td>\n",
       "      <td>2021</td>\n",
       "      <td>BENIN</td>\n",
       "    </tr>\n",
       "    <tr>\n",
       "      <th>2</th>\n",
       "      <td>0.090497</td>\n",
       "      <td>2018</td>\n",
       "      <td>BURKINA FASO</td>\n",
       "    </tr>\n",
       "    <tr>\n",
       "      <th>3</th>\n",
       "      <td>0.041804</td>\n",
       "      <td>2021</td>\n",
       "      <td>BURKINA FASO</td>\n",
       "    </tr>\n",
       "    <tr>\n",
       "      <th>4</th>\n",
       "      <td>0.025837</td>\n",
       "      <td>2018</td>\n",
       "      <td>COTE D'IVOIRE</td>\n",
       "    </tr>\n",
       "    <tr>\n",
       "      <th>5</th>\n",
       "      <td>0.012056</td>\n",
       "      <td>2021</td>\n",
       "      <td>COTE D'IVOIRE</td>\n",
       "    </tr>\n",
       "    <tr>\n",
       "      <th>6</th>\n",
       "      <td>0.043921</td>\n",
       "      <td>2018</td>\n",
       "      <td>GUINEE BISSAU</td>\n",
       "    </tr>\n",
       "    <tr>\n",
       "      <th>7</th>\n",
       "      <td>0.032666</td>\n",
       "      <td>2021</td>\n",
       "      <td>GUINEE BISSAU</td>\n",
       "    </tr>\n",
       "    <tr>\n",
       "      <th>8</th>\n",
       "      <td>0.034772</td>\n",
       "      <td>2018</td>\n",
       "      <td>MALI</td>\n",
       "    </tr>\n",
       "    <tr>\n",
       "      <th>9</th>\n",
       "      <td>0.030806</td>\n",
       "      <td>2021</td>\n",
       "      <td>MALI</td>\n",
       "    </tr>\n",
       "    <tr>\n",
       "      <th>10</th>\n",
       "      <td>0.169271</td>\n",
       "      <td>2018</td>\n",
       "      <td>NIGER</td>\n",
       "    </tr>\n",
       "    <tr>\n",
       "      <th>11</th>\n",
       "      <td>0.113025</td>\n",
       "      <td>2021</td>\n",
       "      <td>NIGER</td>\n",
       "    </tr>\n",
       "    <tr>\n",
       "      <th>12</th>\n",
       "      <td>0.016833</td>\n",
       "      <td>2018</td>\n",
       "      <td>SENEGAL</td>\n",
       "    </tr>\n",
       "    <tr>\n",
       "      <th>13</th>\n",
       "      <td>0.010349</td>\n",
       "      <td>2021</td>\n",
       "      <td>SENEGAL</td>\n",
       "    </tr>\n",
       "    <tr>\n",
       "      <th>14</th>\n",
       "      <td>0.073449</td>\n",
       "      <td>2018</td>\n",
       "      <td>TOGO</td>\n",
       "    </tr>\n",
       "    <tr>\n",
       "      <th>15</th>\n",
       "      <td>0.039624</td>\n",
       "      <td>2021</td>\n",
       "      <td>TOGO</td>\n",
       "    </tr>\n",
       "  </tbody>\n",
       "</table>\n",
       "</div>"
      ],
      "text/plain": [
       "         Gap  year   Country Name\n",
       "0   0.043599  2018          BENIN\n",
       "1   0.018132  2021          BENIN\n",
       "2   0.090497  2018   BURKINA FASO\n",
       "3   0.041804  2021   BURKINA FASO\n",
       "4   0.025837  2018  COTE D'IVOIRE\n",
       "5   0.012056  2021  COTE D'IVOIRE\n",
       "6   0.043921  2018  GUINEE BISSAU\n",
       "7   0.032666  2021  GUINEE BISSAU\n",
       "8   0.034772  2018           MALI\n",
       "9   0.030806  2021           MALI\n",
       "10  0.169271  2018          NIGER\n",
       "11  0.113025  2021          NIGER\n",
       "12  0.016833  2018        SENEGAL\n",
       "13  0.010349  2021        SENEGAL\n",
       "14  0.073449  2018           TOGO\n",
       "15  0.039624  2021           TOGO"
      ]
     },
     "execution_count": 131,
     "metadata": {},
     "output_type": "execute_result"
    }
   ],
   "source": [
    "resultat_gap = wa.gap()\n",
    "resultat_gap.to_table('Gap',wa.dummies.columns)"
   ]
  },
  {
   "cell_type": "code",
   "execution_count": 5,
   "id": "c5e66143",
   "metadata": {},
   "outputs": [
    {
     "data": {
      "text/plain": [
       "Index(['country', 'year', 'hhid', 'grappe', 'menage', 'vague', 'zae', 'region',\n",
       "       'milieu', 'hhweight', 'hhsize', 'eqadu1', 'eqadu2', 'hgender', 'hage',\n",
       "       'hmstat', 'hreligion', 'hnation', 'halfab', 'heduc', 'hdiploma',\n",
       "       'hhandig', 'hactiv7j', 'hactiv12m', 'hbranch', 'hsectins', 'hcsp',\n",
       "       'dali', 'dnal', 'dtot', 'pcexp', 'zref', 'def_spa', 'def_temp', 'halfa',\n",
       "       'halfa2', 'milieu2', 'dtet', 'decile', 'zzae', 'dep_sante', 'PPP', 'CY',\n",
       "       'Code_CY', 'dtot_ppa_ind', 'poids', 'Quintile', 'zref_intl', 'weight',\n",
       "       'BEN2018', 'BEN2021', 'BFA2018', 'BFA2021', 'CIV2018', 'CIV2021',\n",
       "       'GNB2018', 'GNB2021', 'MLI2018', 'MLI2021', 'NER2018', 'NER2021',\n",
       "       'SEN2018', 'SEN2021', 'TGO2018', 'TGO2021'],\n",
       "      dtype='object')"
      ]
     },
     "execution_count": 5,
     "metadata": {},
     "output_type": "execute_result"
    }
   ],
   "source": [
    "wa.data.columns"
   ]
  },
  {
   "cell_type": "code",
   "execution_count": 157,
   "id": "064e46b8",
   "metadata": {},
   "outputs": [
    {
     "data": {
      "text/plain": [
       "0         Urbain\n",
       "1         Urbain\n",
       "2         Urbain\n",
       "3         Urbain\n",
       "4         Urbain\n",
       "           ...  \n",
       "119184     Rural\n",
       "119185     Rural\n",
       "119186     Rural\n",
       "119187     Rural\n",
       "119188     Rural\n",
       "Name: milieu, Length: 119189, dtype: category\n",
       "Categories (2, object): ['Urbain' < 'Rural']"
      ]
     },
     "execution_count": 157,
     "metadata": {},
     "output_type": "execute_result"
    }
   ],
   "source": [
    "wa.data['milieu']"
   ]
  },
  {
   "cell_type": "code",
   "execution_count": 22,
   "id": "b323d12a",
   "metadata": {},
   "outputs": [
    {
     "data": {
      "text/plain": [
       "0          BEN20181005.0\n",
       "1          BEN20181019.0\n",
       "2          BEN20181026.0\n",
       "3          BEN20181032.0\n",
       "4          BEN20181046.0\n",
       "               ...      \n",
       "119184    TGO202154008.0\n",
       "119185    TGO202154009.0\n",
       "119186    TGO202154010.0\n",
       "119187    TGO202154011.0\n",
       "119188    TGO202154012.0\n",
       "Length: 119189, dtype: object"
      ]
     },
     "execution_count": 22,
     "metadata": {},
     "output_type": "execute_result"
    }
   ],
   "source": []
  },
  {
   "cell_type": "code",
   "execution_count": 43,
   "id": "aed5c33c",
   "metadata": {},
   "outputs": [
    {
     "data": {
      "text/plain": [
       "0         213.103818\n",
       "1         213.103818\n",
       "2         213.103818\n",
       "3         213.103818\n",
       "4         213.103818\n",
       "             ...    \n",
       "119184    230.335638\n",
       "119185    230.335638\n",
       "119186    230.335638\n",
       "119187    230.335638\n",
       "119188    230.335638\n",
       "Name: PPP, Length: 119189, dtype: float64"
      ]
     },
     "execution_count": 43,
     "metadata": {},
     "output_type": "execute_result"
    }
   ],
   "source": [
    "wa.data['PPP']"
   ]
  },
  {
   "cell_type": "code",
   "execution_count": 45,
   "id": "3603416c",
   "metadata": {},
   "outputs": [
    {
     "data": {
      "text/plain": [
       "'s_i'"
      ]
     },
     "execution_count": 45,
     "metadata": {},
     "output_type": "execute_result"
    }
   ],
   "source": [
    "'_'.join(['s','i'])"
   ]
  },
  {
   "cell_type": "code",
   "execution_count": null,
   "id": "0a0a3047",
   "metadata": {},
   "outputs": [],
   "source": []
  }
 ],
 "metadata": {
  "kernelspec": {
   "display_name": "Python 3 (ipykernel)",
   "language": "python",
   "name": "python3"
  },
  "language_info": {
   "codemirror_mode": {
    "name": "ipython",
    "version": 3
   },
   "file_extension": ".py",
   "mimetype": "text/x-python",
   "name": "python",
   "nbconvert_exporter": "python",
   "pygments_lexer": "ipython3",
   "version": "3.10.9"
  }
 },
 "nbformat": 4,
 "nbformat_minor": 5
}
