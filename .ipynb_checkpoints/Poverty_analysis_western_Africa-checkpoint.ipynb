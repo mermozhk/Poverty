{
 "cells": [
  {
   "cell_type": "code",
   "execution_count": 1,
   "id": "a6c079b5",
   "metadata": {},
   "outputs": [],
   "source": [
    "import numpy as np\n",
    "import pandas as pd\n",
    "import seaborn as sn\n",
    "import os\n",
    "import sklearn as sk\n",
    "import statsmodels.api as sm\n",
    "\n",
    "class country:\n",
    "    def __init__(self,name,code_country,year):\n",
    "        self.country_name = name\n",
    "        self.year = year\n",
    "        self.code_country = code_country\n",
    "        url_base = 'https://github.com/mermozhk/Poverty/raw/main/'\n",
    "        #print('/'.join([url_base,name,year,'ehcvm_welfare_'+''.join([code_country,year])])+'.dta')\n",
    "        self.welfare_data = pd.read_stata('/'.join([url_base,name,year,'ehcvm_welfare_'+''.join([code_country,year])])+'.dta')\n",
    "        self.welfare_data['dtot_corrected']=self.welfare_data['dtot']/self.welfare_data['def_spa']\n",
    "        \n",
    "        self.conso_data = pd.read_stata('/'.join([url_base,name,year,'ehcvm_conso_'+''.join([code_country,year])])+'.dta')\n",
    "        self.menage_data = pd.read_stata('/'.join([url_base,name,year,'ehcvm_menage_'+''.join([code_country,year])])+'.dta')\n",
    "        self.individu_data = pd.read_stata('/'.join([url_base,name,year,'ehcvm_individu_'+''.join([code_country,year])])+'.dta')\n",
    "        \n",
    "        self.merge_data = pd.merge(self.individu_data,\n",
    "               self.welfare_data[['hhid','zref','dtot_corrected','hhsize']],\n",
    "               on = 'hhid',\n",
    "               how='outer')\n",
    "        self.merge_data['constant'] =1\n",
    "    \n",
    "    \n",
    "    def estimation_procedure(self,index):\n",
    "        wls_model = sm.WLS(self.merge_data[index],self.merge_data['constant'], weights=self.merge_data['hhweight'])\n",
    "        return wls_model.fit()\n",
    "        \n",
    "    def prevalence(self):\n",
    "        self.merge_data['prevalence']=(self.merge_data['dtot_corrected']<\n",
    "                                       (self.merge_data['zref']*self.merge_data['hhsize'])).map({False:0, True:1})\n",
    "        return self.estimation_procedure('prevalence')\n",
    "    \n",
    "    def gap(self):\n",
    "        self.merge_data['gap'] = (1-self.merge_data['dtot_corrected']/(self.merge_data['zref']*self.merge_data['hhsize']))*self.merge_data['prevalence']\n",
    "        return self.estimation_procedure('gap')\n",
    "    \n",
    "    def severity(self):\n",
    "        if not('prevalence' in self.merge_data.columns):\n",
    "            \n",
    "            self.merge_data['prevalence']=(self.merge_data['dtot_corrected']<\n",
    "                                       (self.merge_data['zref']*self.merge_data['hhsize'])).map({False:0, True:1})\n",
    "            \n",
    "        self.merge_data['severity'] = ((1-self.merge_data['dtot_corrected']/(self.merge_data['zref']*self.merge_data['hhsize']))**2)*self.merge_data['prevalence']\n",
    "        \n",
    "        return self.estimation_procedure('severity')\n",
    "    \n",
    "    def aart_welfare_index(self):\n",
    "        self.merge_data['aart_welfare'] = (self.merge_data['zref']*self.merge_data['hhsize'])/self.merge_data['dtot_corrected']\n",
    "        return self.estimation_procedure('aart_welfare')\n",
    "    \n",
    "    def aart_poverty_index(self):\n",
    "        if not('aart_welfare' in self.merge_data.columns):\n",
    "            self.merge_data['aart_welfare'] = (self.merge_data['zref']*self.merge_data['hhsize'])/self.merge_data['dtot_corrected']\n",
    "        \n",
    "        self.merge_data['aart_poverty'] = self.merge_data.apply(lambda x: max(x.aart_welfare,1),axis=1)\n",
    "        return self.estimation_procedure('aart_poverty')\n",
    "        "
   ]
  },
  {
   "cell_type": "code",
   "execution_count": 2,
   "id": "05a653cb",
   "metadata": {},
   "outputs": [],
   "source": [
    "Benin = country(name='Benin',code_country='BEN',year='2018')"
   ]
  },
  {
   "cell_type": "code",
   "execution_count": null,
   "id": "aacd9308",
   "metadata": {},
   "outputs": [],
   "source": [
    "Benin.aart_welfare_index().summary()"
   ]
  },
  {
   "cell_type": "code",
   "execution_count": null,
   "id": "b3930659",
   "metadata": {},
   "outputs": [],
   "source": [
    "Benin.aart_poverty_index().summary()"
   ]
  },
  {
   "cell_type": "code",
   "execution_count": null,
   "id": "233088e2",
   "metadata": {},
   "outputs": [],
   "source": [
    "Benin.prevalence().summary()"
   ]
  },
  {
   "cell_type": "code",
   "execution_count": null,
   "id": "ebcf44d3",
   "metadata": {},
   "outputs": [],
   "source": [
    "Benin.severity().summary()"
   ]
  }
 ],
 "metadata": {
  "kernelspec": {
   "display_name": "Python 3 (ipykernel)",
   "language": "python",
   "name": "python3"
  },
  "language_info": {
   "codemirror_mode": {
    "name": "ipython",
    "version": 3
   },
   "file_extension": ".py",
   "mimetype": "text/x-python",
   "name": "python",
   "nbconvert_exporter": "python",
   "pygments_lexer": "ipython3",
   "version": "3.10.9"
  }
 },
 "nbformat": 4,
 "nbformat_minor": 5
}
